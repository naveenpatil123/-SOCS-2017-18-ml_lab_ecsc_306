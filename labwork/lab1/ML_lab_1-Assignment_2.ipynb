{
 "cells": [
  {
   "cell_type": "markdown",
   "metadata": {},
   "source": [
    "Write a program using tensorflow to calculate : \n",
    "    $$y=mx+c$$"
   ]
  },
  {
   "cell_type": "code",
   "execution_count": 1,
   "metadata": {},
   "outputs": [
    {
     "name": "stdout",
     "output_type": "stream",
     "text": [
      "0\n"
     ]
    }
   ],
   "source": [
    "import tensorflow as tf\n",
    "m = tf.constant(1)\n",
    "x = tf.constant(0)\n",
    "c = tf.constant(0)\n",
    "\n",
    "with tf.name_scope(\"Straight_line_Scope\"):\n",
    "    a = tf.multiply(m,x, name=\"Multiplying_x_intercept_with_slope\")\n",
    "    \n",
    "y = tf.add(a,c , name=\"Independent_variable\")\n",
    "\n",
    "with tf.Session() as sess:\n",
    "    writer = tf.summary.FileWriter(\"/tmp/tboard/result1\", sess.graph)\n",
    "    print(sess.run(y))\n",
    "    writer.close()"
   ]
  },
  {
   "cell_type": "markdown",
   "metadata": {},
   "source": [
    "# Part 1\n",
    "\n",
    "1. Read 2 arrays x,y containing floating point values\n",
    "2. Calculate mean of x & y\n",
    "3. Calculate variance for x\n",
    "    $$variance(x)=(sum((x-mean(x))^2))/n$$\n",
    "4. Calculate covariance of x & y\n",
    "    $$covariance = (sum((x(i) - mean(x)) * (y(i) - mean(y))))/(n-1)$$\n",
    "5. Calculate value of m\n",
    "    $$m = covariance(x,y)/variance(x)$$\n",
    "6. Calculate value of c\n",
    "    $$c = mean(y) -m* mean(x)$$"
   ]
  },
  {
   "cell_type": "code",
   "execution_count": 10,
   "metadata": {},
   "outputs": [
    {
     "name": "stdout",
     "output_type": "stream",
     "text": [
      "7.01746\n"
     ]
    }
   ],
   "source": [
    "import tensorflow as tf\n",
    "\n",
    "#1.Reading 2 arrays of 4 values each\n",
    "#Let us assume 'p' as x(response variable) and 'q' as y(predictor variable)\n",
    "p = tf.constant([1.0,2.2,3.4,4.5,5.6])\n",
    "q = tf.constant([6.8,7.0,8.1,9.6,3.3])\n",
    "\n",
    "#2. Calculating mean using reduce_mean function\n",
    "with tf.name_scope(\"mean\"):\n",
    "    MeanP=tf.reduce_mean(p)\n",
    "    MeanQ=tf.reduce_mean(q,name=\"Meann\")\n",
    "\n",
    "#3. Calculating variance of x\n",
    "with tf.name_scope(\"Variance\"):\n",
    "    with tf.name_scope(\"Scope_A\"):\n",
    "        e=tf.square(tf.subtract(p[0],MeanP, name=\"Sub1\"), name=\"sq1\")\n",
    "    with tf.name_scope(\"Scope_B\"):\n",
    "        f=tf.square(tf.subtract(p[1],MeanP,name=\"sub2\"), name=\"sq2\")\n",
    "    with tf.name_scope(\"Scope_C\"):\n",
    "        g=tf.square(tf.subtract(p[2],MeanP,name=\"sub3\"), name=\"sq3\")\n",
    "    with tf.name_scope(\"Scope_D\"):\n",
    "        h=tf.square(tf.subtract(p[3],MeanP,name=\"sub4\"), name=\"sq4\")\n",
    "\n",
    "\n",
    "i=tf.add(tf.add(e,f,name=\"add_A_B\"),tf.add(g,h,name=\"add_C_D\"),name=\"add_all\")\n",
    "j=tf.div(i,4, name=\"var\")\n",
    "\n",
    "\n",
    "#4. Calculate covariance of x & y\n",
    "with tf.name_scope(\"covariance\"):\n",
    "    with tf.name_scope(\"Scope_E\"):\n",
    "        k=tf.subtract(p[0],MeanP, name=\"Sub_first_value_of_array_p\")\n",
    "        l=tf.subtract(q[0],MeanQ, name=\"Sub_first_value_of_array_q\")\n",
    "        n=tf.multiply(k,l, name=\"multiplying_subracted_values1\")\n",
    "    with tf.name_scope(\"Scope_F\"):\n",
    "        o=tf.subtract(p[1],MeanP, name=\"Sub_second_value_of_array_p\")\n",
    "        r=tf.subtract(q[1],MeanQ, name=\"Sub_second_value_of_array_q\")\n",
    "        s=tf.multiply(n,o, name=\"multiplying_subracted_values2\")\n",
    "    with tf.name_scope(\"Scope_G\"):\n",
    "        t=tf.subtract(p[2],MeanP, name=\"Sub_third_value_of_array_p\")\n",
    "        u=tf.subtract(q[2],MeanQ, name=\"Sub_third_value_of_array_q\")\n",
    "        v=tf.multiply(k,l, name=\"multiplying_subracted_values3\")\n",
    "    with tf.name_scope(\"Scope_H\"):\n",
    "        w=tf.subtract(p[3],MeanP, name=\"Sub_fourth_value_of_array_p\")\n",
    "        z=tf.subtract(q[3],MeanQ, name=\"Sub_fourth_value_of_array_q\")\n",
    "        a1=tf.multiply(n,o, name=\"multiplying_subracted_values4\")\n",
    "        \n",
    "\n",
    "a2=tf.add(tf.add(n,s,name=\"add_E_F\"),tf.add(v,a1,name=\"add_G_H\"),name=\"add_all1\")\n",
    "a3=tf.div(a2,(4-1), name=\"covar\")\n",
    "\n",
    "\n",
    "#5. Calculate value of m with formula m = covariance(x,y)/variance(x)\n",
    "\n",
    "with tf.name_scope(\"m_value\"):\n",
    "    m1=tf.div(a3,j, name=\"mVal\")\n",
    "    \n",
    "\n",
    "#6. Calculate value of c   $$m = covariance(x,y)/variance(x)\n",
    "\n",
    "    with tf.name_scope(\"c_value\"):\n",
    "        d=tf.multiply(m1,MeanP)\n",
    "    \n",
    "c1=tf.subtract(MeanQ,d, name=\"cVal\")\n",
    "    \n",
    "\n",
    "with tf.Session() as sess:\n",
    "    writer = tf.summary.FileWriter(\"/tmp/tboard/res\", sess.graph)\n",
    "    print(sess.run(c1))\n",
    "    #print(sess.run(MeanP))\n",
    "    #print(sess.run(MeanQ))\n",
    "    #print(sess.run(j))\n",
    "    #print(sess.run(a3))\n",
    "    #print(sess.run(m1))''''\n",
    "    writer.close()"
   ]
  },
  {
   "cell_type": "code",
   "execution_count": null,
   "metadata": {
    "collapsed": true
   },
   "outputs": [],
   "source": []
  },
  {
   "cell_type": "code",
   "execution_count": null,
   "metadata": {
    "collapsed": true
   },
   "outputs": [],
   "source": []
  }
 ],
 "metadata": {
  "kernelspec": {
   "display_name": "Python 3",
   "language": "python",
   "name": "python3"
  },
  "language_info": {
   "codemirror_mode": {
    "name": "ipython",
    "version": 3
   },
   "file_extension": ".py",
   "mimetype": "text/x-python",
   "name": "python",
   "nbconvert_exporter": "python",
   "pygments_lexer": "ipython3",
   "version": "3.6.1"
  }
 },
 "nbformat": 4,
 "nbformat_minor": 2
}
